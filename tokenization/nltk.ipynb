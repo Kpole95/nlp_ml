{
 "cells": [
  {
   "cell_type": "code",
   "execution_count": 47,
   "id": "7f82f46c",
   "metadata": {},
   "outputs": [
    {
     "name": "stderr",
     "output_type": "stream",
     "text": [
      "[nltk_data] Downloading package punkt to\n",
      "[nltk_data]     C:\\Users\\krish\\AppData\\Roaming\\nltk_data...\n",
      "[nltk_data]   Package punkt is already up-to-date!\n",
      "[nltk_data] Downloading package punkt_tab to\n",
      "[nltk_data]     C:\\Users\\krish\\AppData\\Roaming\\nltk_data...\n",
      "[nltk_data]   Package punkt_tab is already up-to-date!\n"
     ]
    },
    {
     "data": {
      "text/plain": [
       "True"
      ]
     },
     "execution_count": 47,
     "metadata": {},
     "output_type": "execute_result"
    }
   ],
   "source": [
    "import nltk\n",
    "nltk.download('punkt')\n",
    "import nltk\n",
    "nltk.download('punkt_tab')\n"
   ]
  },
  {
   "cell_type": "code",
   "execution_count": 48,
   "id": "d8a33cd4",
   "metadata": {},
   "outputs": [],
   "source": [
    "## corpus\n",
    "\n",
    "corpus=\"\"\"Hello this is murali krishna pole.\n",
    "I am student at MIPT and studying Artificial Intelligence\n",
    "\n",
    "\"\"\""
   ]
  },
  {
   "cell_type": "code",
   "execution_count": 49,
   "metadata": {},
   "outputs": [
    {
     "name": "stdout",
     "output_type": "stream",
     "text": [
      "Hello this is murali krishna pole.\n",
      "I am student at MIPT and studying Artificial Intelligence\n",
      "\n",
      "\n"
     ]
    }
   ],
   "source": [
    "print(corpus)"
   ]
  },
  {
   "cell_type": "code",
   "execution_count": 50,
   "metadata": {},
   "outputs": [],
   "source": [
    "## tokeniszation\n",
    "## sentence into paragraphs\n",
    "\n",
    "from nltk.tokenize import sent_tokenize"
   ]
  },
  {
   "cell_type": "code",
   "execution_count": 51,
   "metadata": {},
   "outputs": [],
   "source": [
    "documents=sent_tokenize(corpus)"
   ]
  },
  {
   "cell_type": "code",
   "execution_count": 52,
   "metadata": {},
   "outputs": [
    {
     "data": {
      "text/plain": [
       "list"
      ]
     },
     "execution_count": 52,
     "metadata": {},
     "output_type": "execute_result"
    }
   ],
   "source": [
    "type(documents)"
   ]
  },
  {
   "cell_type": "code",
   "execution_count": 53,
   "metadata": {},
   "outputs": [
    {
     "name": "stdout",
     "output_type": "stream",
     "text": [
      "Hello this is murali krishna pole.\n",
      "I am student at MIPT and studying Artificial Intelligence\n"
     ]
    }
   ],
   "source": [
    "for sentence in documents:\n",
    "    print(sentence)"
   ]
  },
  {
   "cell_type": "code",
   "execution_count": 54,
   "metadata": {},
   "outputs": [],
   "source": [
    "## tokenization \n",
    "## paragraph into words\n",
    "## sentence into words\n",
    "\n",
    "from nltk.tokenize import word_tokenize"
   ]
  },
  {
   "cell_type": "code",
   "execution_count": 55,
   "metadata": {},
   "outputs": [
    {
     "data": {
      "text/plain": [
       "['Hello',\n",
       " 'this',\n",
       " 'is',\n",
       " 'murali',\n",
       " 'krishna',\n",
       " 'pole',\n",
       " '.',\n",
       " 'I',\n",
       " 'am',\n",
       " 'student',\n",
       " 'at',\n",
       " 'MIPT',\n",
       " 'and',\n",
       " 'studying',\n",
       " 'Artificial',\n",
       " 'Intelligence']"
      ]
     },
     "execution_count": 55,
     "metadata": {},
     "output_type": "execute_result"
    }
   ],
   "source": [
    "word_tokenize(corpus)"
   ]
  },
  {
   "cell_type": "code",
   "execution_count": 56,
   "metadata": {},
   "outputs": [
    {
     "name": "stdout",
     "output_type": "stream",
     "text": [
      "['Hello', 'this', 'is', 'murali', 'krishna', 'pole', '.']\n",
      "['I', 'am', 'student', 'at', 'MIPT', 'and', 'studying', 'Artificial', 'Intelligence']\n"
     ]
    }
   ],
   "source": [
    "for sentence in documents:\n",
    "    print(word_tokenize(sentence))"
   ]
  },
  {
   "cell_type": "code",
   "execution_count": 57,
   "id": "7e0e5198",
   "metadata": {},
   "outputs": [
    {
     "data": {
      "text/plain": [
       "['Hello',\n",
       " 'this',\n",
       " 'is',\n",
       " 'murali',\n",
       " 'krishna',\n",
       " 'pole',\n",
       " '.',\n",
       " 'I',\n",
       " 'am',\n",
       " 'student',\n",
       " 'at',\n",
       " 'MIPT',\n",
       " 'and',\n",
       " 'studying',\n",
       " 'Artificial',\n",
       " 'Intelligence']"
      ]
     },
     "execution_count": 57,
     "metadata": {},
     "output_type": "execute_result"
    }
   ],
   "source": [
    "from nltk.tokenize import wordpunct_tokenize\n",
    "wordpunct_tokenize(corpus)"
   ]
  },
  {
   "cell_type": "code",
   "execution_count": 58,
   "id": "6d78f270",
   "metadata": {},
   "outputs": [],
   "source": [
    "from nltk.tokenize import TreebankWordDetokenizer"
   ]
  },
  {
   "cell_type": "code",
   "execution_count": 59,
   "id": "6ffed15f",
   "metadata": {},
   "outputs": [],
   "source": [
    "tokenizer=TreebankWordDetokenizer()"
   ]
  },
  {
   "cell_type": "code",
   "execution_count": 60,
   "id": "0ec923ff",
   "metadata": {},
   "outputs": [
    {
     "data": {
      "text/plain": [
       "'H e l l o   t h i s   i s   m u r a l i   k r i s h n a   p o l e . \\n I   a m   s t u d e n t   a t   M I P T   a n d   s t u d y i n g   A r t i f i c i a l   I n t e l l i g e n c e'"
      ]
     },
     "execution_count": 60,
     "metadata": {},
     "output_type": "execute_result"
    }
   ],
   "source": [
    "tokenizer.tokenize(corpus)"
   ]
  },
  {
   "cell_type": "code",
   "execution_count": 61,
   "id": "f1519fa1",
   "metadata": {},
   "outputs": [
    {
     "name": "stdout",
     "output_type": "stream",
     "text": [
      "['H']\n",
      "['e']\n",
      "['l']\n",
      "['l']\n",
      "['o']\n",
      "[]\n",
      "['t']\n",
      "['h']\n",
      "['i']\n",
      "['s']\n",
      "[]\n",
      "['i']\n",
      "['s']\n",
      "[]\n",
      "['m']\n",
      "['u']\n",
      "['r']\n",
      "['a']\n",
      "['l']\n",
      "['i']\n",
      "[]\n",
      "['k']\n",
      "['r']\n",
      "['i']\n",
      "['s']\n",
      "['h']\n",
      "['n']\n",
      "['a']\n",
      "[]\n",
      "['p']\n",
      "['o']\n",
      "['l']\n",
      "['e']\n",
      "['.']\n",
      "[]\n",
      "['I']\n",
      "[]\n",
      "['a']\n",
      "['m']\n",
      "[]\n",
      "['s']\n",
      "['t']\n",
      "['u']\n",
      "['d']\n",
      "['e']\n",
      "['n']\n",
      "['t']\n",
      "[]\n",
      "['a']\n",
      "['t']\n",
      "[]\n",
      "['M']\n",
      "['I']\n",
      "['P']\n",
      "['T']\n",
      "[]\n",
      "['a']\n",
      "['n']\n",
      "['d']\n",
      "[]\n",
      "['s']\n",
      "['t']\n",
      "['u']\n",
      "['d']\n",
      "['y']\n",
      "['i']\n",
      "['n']\n",
      "['g']\n",
      "[]\n",
      "['A']\n",
      "['r']\n",
      "['t']\n",
      "['i']\n",
      "['f']\n",
      "['i']\n",
      "['c']\n",
      "['i']\n",
      "['a']\n",
      "['l']\n",
      "[]\n",
      "['I']\n",
      "['n']\n",
      "['t']\n",
      "['e']\n",
      "['l']\n",
      "['l']\n",
      "['i']\n",
      "['g']\n",
      "['e']\n",
      "['n']\n",
      "['c']\n",
      "['e']\n",
      "[]\n",
      "[]\n"
     ]
    }
   ],
   "source": [
    "for sentence in corpus:\n",
    "    print(wordpunct_tokenize(sentence))"
   ]
  },
  {
   "cell_type": "code",
   "execution_count": null,
   "id": "39b7f3db",
   "metadata": {},
   "outputs": [],
   "source": []
  }
 ],
 "metadata": {
  "kernelspec": {
   "display_name": "learningvenv (3.11.7)",
   "language": "python",
   "name": "python3"
  },
  "language_info": {
   "codemirror_mode": {
    "name": "ipython",
    "version": 3
   },
   "file_extension": ".py",
   "mimetype": "text/x-python",
   "name": "python",
   "nbconvert_exporter": "python",
   "pygments_lexer": "ipython3",
   "version": "3.11.7"
  }
 },
 "nbformat": 4,
 "nbformat_minor": 5
}
